{
  "nbformat": 4,
  "nbformat_minor": 0,
  "metadata": {
    "colab": {
      "provenance": [],
      "authorship_tag": "ABX9TyOg7PBzY3U78xz28FH/LjR2",
      "include_colab_link": true
    },
    "kernelspec": {
      "name": "python3",
      "display_name": "Python 3"
    },
    "language_info": {
      "name": "python"
    }
  },
  "cells": [
    {
      "cell_type": "markdown",
      "metadata": {
        "id": "view-in-github",
        "colab_type": "text"
      },
      "source": [
        "<a href=\"https://colab.research.google.com/github/zoudada67/defi3/blob/main/Code/CodeRequ%C3%AAteGitD%C3%A9fiIII.ipynb\" target=\"_parent\"><img src=\"https://colab.research.google.com/assets/colab-badge.svg\" alt=\"Open In Colab\"/></a>"
      ]
    },
    {
      "cell_type": "code",
      "source": [
        "!pip install requests"
      ],
      "metadata": {
        "id": "o9FbkFkoZI8k"
      },
      "execution_count": null,
      "outputs": []
    },
    {
      "cell_type": "code",
      "source": [
        "import pandas as pd"
      ],
      "metadata": {
        "id": "lUeTup68X1f7"
      },
      "execution_count": null,
      "outputs": []
    },
    {
      "cell_type": "code",
      "execution_count": null,
      "metadata": {
        "id": "C64zwINtXFg_"
      },
      "outputs": [],
      "source": [
        "urlPHRC = \"https://github.com/jgodet/IDS_Apps_Defi3/blob/main/data/data_defi3.csv.gz\"\n",
        "requêtePHRC = requests.get(urlPHRC).content\n",
        "PHRC = pd.read_csv(io.StringIO(requêtePHRC.decode('utf-8')),index_col=0)"
      ]
    }
  ]
}