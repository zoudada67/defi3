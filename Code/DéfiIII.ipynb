{
  "nbformat": 4,
  "nbformat_minor": 0,
  "metadata": {
    "colab": {
      "provenance": [],
      "authorship_tag": "ABX9TyPnU/DdoY+GvFsnf3+z7fan",
      "include_colab_link": true
    },
    "kernelspec": {
      "name": "python3",
      "display_name": "Python 3"
    },
    "language_info": {
      "name": "python"
    }
  },
  "cells": [
    {
      "cell_type": "markdown",
      "metadata": {
        "id": "view-in-github",
        "colab_type": "text"
      },
      "source": [
        "<a href=\"https://colab.research.google.com/github/zoudada67/defi3/blob/main/Code/D%C3%A9fiIII.ipynb\" target=\"_parent\"><img src=\"https://colab.research.google.com/assets/colab-badge.svg\" alt=\"Open In Colab\"/></a>"
      ]
    },
    {
      "cell_type": "code",
      "source": [
        "import pandas as pd\n",
        "import tensorflow as tf\n",
        "import keras\n",
        "import nltk"
      ],
      "metadata": {
        "id": "lUeTup68X1f7"
      },
      "execution_count": 109,
      "outputs": []
    },
    {
      "cell_type": "code",
      "source": [
        "nltk.download('punkt')\n",
        "nltk.download('stopwords')\n",
        "from nltk.corpus import stopwords"
      ],
      "metadata": {
        "id": "CGL4SzZJ3gjU"
      },
      "execution_count": null,
      "outputs": []
    },
    {
      "cell_type": "code",
      "execution_count": 111,
      "metadata": {
        "id": "C64zwINtXFg_"
      },
      "outputs": [],
      "source": [
        "url = \"https://github.com/jgodet/IDS_Apps_Defi3/raw/main/data/data_defi3.csv.gz\" \n",
        "df = pd.read_csv(url, compression = 'gzip', sep=\";\")\n",
        "df.columns=[\"LibelléPrescription\",\"AvisPharmaceutique\",\"PLT\"]"
      ]
    },
    {
      "cell_type": "code",
      "source": [
        "df = df[df['AvisPharmaceutique'].notna()]"
      ],
      "metadata": {
        "id": "eKD7CMFZsjaN"
      },
      "execution_count": 112,
      "outputs": []
    },
    {
      "cell_type": "code",
      "source": [
        "df[\"CommentairesTokenizés\"] = df[\"AvisPharmaceutique\"].apply(nltk.word_tokenize)"
      ],
      "metadata": {
        "id": "VAvtTmPfd2yO"
      },
      "execution_count": 113,
      "outputs": []
    },
    {
      "cell_type": "code",
      "source": [
        "stop = stopwords.words('french')\n",
        "df['CommentairesTokenizés'] = df['CommentairesTokenizés'].apply(lambda x: [item for item in x if item not in stop])"
      ],
      "metadata": {
        "id": "nnmInmrt8isA"
      },
      "execution_count": 114,
      "outputs": []
    },
    {
      "cell_type": "code",
      "source": [
        "df"
      ],
      "metadata": {
        "id": "ovTVtgHPDA3Z"
      },
      "execution_count": null,
      "outputs": []
    }
  ]
}